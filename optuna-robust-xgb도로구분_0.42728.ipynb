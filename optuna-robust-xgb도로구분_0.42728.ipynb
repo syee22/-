{
 "cells": [
  {
   "cell_type": "code",
   "execution_count": 1,
   "id": "d5653836",
   "metadata": {},
   "outputs": [],
   "source": [
    "import pandas as pd\n",
    "import numpy as np\n",
    "import warnings \n",
    "warnings.filterwarnings('ignore')\n",
    "from sklearn.preprocessing import LabelEncoder,StandardScaler,MinMaxScaler,RobustScaler\n",
    "from category_encoders.target_encoder import TargetEncoder\n",
    "\n",
    "from sklearn.model_selection import train_test_split,GridSearchCV\n",
    "from sklearn.metrics import mean_squared_error, mean_absolute_error,mean_squared_log_error,make_scorer\n",
    "from sklearn.linear_model import LinearRegression\n",
    "import matplotlib.pyplot as plt\n",
    "import seaborn as sns\n",
    "import optuna\n",
    "from optuna.samplers import TPESampler\n",
    "\n",
    "\n",
    "import os\n",
    "from xgboost import XGBRegressor \n",
    "import xgboost as xgb \n",
    "from tqdm import tqdm\n",
    "from sklearn.model_selection import KFold\n"
   ]
  },
  {
   "cell_type": "code",
   "execution_count": 2,
   "id": "ca3d9bcb",
   "metadata": {},
   "outputs": [],
   "source": [
    "train = pd.read_csv(\"train2.csv\").drop(['사망자수','중상자수','경상자수','부상자수'],axis=1)\n",
    "test = pd.read_csv(\"test(통합본).csv\")"
   ]
  },
  {
   "cell_type": "code",
   "execution_count": 3,
   "id": "67a02f4c",
   "metadata": {},
   "outputs": [],
   "source": [
    "def gu(address):\n",
    "    return address.split()[0]\n",
    "def dong(address):\n",
    "    return address.split()[1]\n",
    "def road_1(x):\n",
    "    return x.split(' - ')[0]\n",
    "def road_2(x):\n",
    "    return x.split(' - ')[1]"
   ]
  },
  {
   "cell_type": "code",
   "execution_count": 4,
   "id": "a848b069",
   "metadata": {},
   "outputs": [],
   "source": [
    "for df in [train,test]:\n",
    "    df['구'] = df['주소'].apply(gu)\n",
    "    df['동'] = df['주소'].apply(dong)\n",
    "    df.drop('주소',axis=1,inplace=True)\n",
    "    df['도로구분1'] = df['도로형태'].apply(road_1)\n",
    "    df['도로구분2'] = df['도로형태'].apply(road_2)\n",
    "    df.drop('도로형태',axis=1,inplace=True)"
   ]
  },
  {
   "cell_type": "code",
   "execution_count": 5,
   "id": "543ef456",
   "metadata": {},
   "outputs": [],
   "source": [
    "train = train[['요일', '기상상태', '도로구분1','도로구분2', '노면상태', '사고유형', '구', '동', '연휴', '년도', '월', '일', '시간',\n",
    "       '설치장소', '설치개수', 'CCTV설치대수', '급지구분_1', '급지구분_2', '급지구분_3', 'ECLO']]\n",
    "test = test[['요일', '기상상태', '도로구분1','도로구분2', '노면상태', '사고유형', '구', '동', '연휴', '년도', '월', '일', '시간',\n",
    "       '설치장소', '설치개수', 'CCTV설치대수', '급지구분_1', '급지구분_2', '급지구분_3']]"
   ]
  },
  {
   "cell_type": "code",
   "execution_count": 6,
   "id": "b1d7befb",
   "metadata": {},
   "outputs": [
    {
     "data": {
      "text/plain": [
       "['요일', '기상상태', '도로구분1', '도로구분2', '노면상태', '사고유형', '구', '동']"
      ]
     },
     "metadata": {},
     "output_type": "display_data"
    }
   ],
   "source": [
    "categorical_features = list(train.dtypes[train.dtypes == \"object\"].index)\n",
    "display(categorical_features)\n",
    "\n",
    "for i in categorical_features:\n",
    "    le = LabelEncoder()\n",
    "    le=le.fit(train[i]) \n",
    "    train[i]=le.transform(train[i])\n",
    "    \n",
    "    for case in np.unique(test[i]):\n",
    "        if case not in le.classes_: \n",
    "            le.classes_ = np.append(le.classes_, case) \n",
    "    test[i]=le.transform(test[i])"
   ]
  },
  {
   "cell_type": "code",
   "execution_count": 7,
   "id": "526e2cb3",
   "metadata": {},
   "outputs": [],
   "source": [
    "train_x = train.drop('ECLO',axis=1)\n",
    "train_y = np.log(train['ECLO'])\n",
    "test_x = test"
   ]
  },
  {
   "cell_type": "code",
   "execution_count": 8,
   "id": "d4d3689a",
   "metadata": {},
   "outputs": [],
   "source": [
    "rs = RobustScaler()\n",
    "X_standard = rs.fit_transform(train_x)\n",
    "test_standard = rs.transform(test_x.iloc[:,:])"
   ]
  },
  {
   "cell_type": "code",
   "execution_count": 9,
   "id": "b5a2787f",
   "metadata": {},
   "outputs": [],
   "source": [
    "X_train, X_valid , y_train , y_valid  = train_test_split(X_standard,train_y, shuffle=True,test_size=0.2)"
   ]
  },
  {
   "cell_type": "code",
   "execution_count": 10,
   "id": "f60da958",
   "metadata": {
    "scrolled": true
   },
   "outputs": [],
   "source": [
    "def rmsle(actual_values,predicted_values):\n",
    "    predicted_values = np.array(predicted_values)\n",
    "    actual_values = np.array(actual_values)\n",
    "\n",
    "    log_predict = np.log(predicted_values + 1)\n",
    "    log_actual = np.log(actual_values + 1)\n",
    "\n",
    "    difference = log_predict - log_actual\n",
    "    difference = np.square(difference)\n",
    "    mean_difference = difference.mean()\n",
    "    score = np.sqrt(mean_difference)\n",
    "\n",
    "    return score\n",
    "\n",
    "def objective(trial, train_x, train_y, val_x, val_y):\n",
    "    \n",
    "    param = {\n",
    "        'lambda': trial.suggest_float('lambda', 1e-3, 0.1),\n",
    "        'alpha': trial.suggest_float('alpha', 1e-3, 1.0),\n",
    "        'colsample_bytree': trial.suggest_float('colsample_bytree', 0.4, 1),\n",
    "        'subsample': trial.suggest_float('subsample', 0.4, 1),\n",
    "        'learning_rate': trial.suggest_float('learning_rate',0.0001, 0.1),\n",
    "        'n_estimators': trial.suggest_int('n_estimators', 100, 1000),\n",
    "        'max_depth': trial.suggest_int('max_depth', 4,20), # 8\n",
    "        'min_child_weight': trial.suggest_int('min_child_weight', 2, 50),\n",
    "    }\n",
    "    model =XGBRegressor(**param)  \n",
    "    model.fit(train_x, train_y)\n",
    "    preds = model.predict(val_x)\n",
    "    score = rmsle(val_y, preds)\n",
    "    \n",
    "    return score"
   ]
  },
  {
   "cell_type": "code",
   "execution_count": 11,
   "id": "d987c9d3",
   "metadata": {
    "scrolled": true
   },
   "outputs": [
    {
     "name": "stderr",
     "output_type": "stream",
     "text": [
      "[I 2023-12-09 16:15:53,082] A new study created in memory with name: Xgb\n",
      "[I 2023-12-09 16:15:56,017] Trial 0 finished with value: 0.27585284350887745 and parameters: {'lambda': 0.03807947176588889, 'alpha': 0.9507635921035062, 'colsample_bytree': 0.839196365086843, 'subsample': 0.759195090518222, 'learning_rate': 0.01568626218019941, 'n_estimators': 240, 'max_depth': 4, 'min_child_weight': 44}. Best is trial 0 with value: 0.27585284350887745.\n",
      "[I 2023-12-09 16:16:00,240] Trial 1 finished with value: 0.28018932072527164 and parameters: {'lambda': 0.06051038616257767, 'alpha': 0.7083645052182495, 'colsample_bytree': 0.41235069657748147, 'subsample': 0.9819459112971965, 'learning_rate': 0.08326101981596214, 'n_estimators': 291, 'max_depth': 7, 'min_child_weight': 10}. Best is trial 0 with value: 0.27585284350887745.\n",
      "[I 2023-12-09 16:16:06,296] Trial 2 finished with value: 0.28029673265264454 and parameters: {'lambda': 0.03111998205299424, 'alpha': 0.5252316752006057, 'colsample_bytree': 0.6591670111852694, 'subsample': 0.5747374841188252, 'learning_rate': 0.061224104182765714, 'n_estimators': 225, 'max_depth': 8, 'min_child_weight': 19}. Best is trial 0 with value: 0.27585284350887745.\n",
      "[I 2023-12-09 16:16:12,826] Trial 3 finished with value: 0.2832115905921332 and parameters: {'lambda': 0.04615092843748656, 'alpha': 0.7853907854316206, 'colsample_bytree': 0.5198042692950159, 'subsample': 0.708540663048167, 'learning_rate': 0.059282215429318046, 'n_estimators': 141, 'max_depth': 14, 'min_child_weight': 10}. Best is trial 0 with value: 0.27585284350887745.\n",
      "[I 2023-12-09 16:16:24,880] Trial 4 finished with value: 0.28077544973857477 and parameters: {'lambda': 0.0074401077055426725, 'alpha': 0.9489366517160799, 'colsample_bytree': 0.9793792198447356, 'subsample': 0.8850384088698766, 'learning_rate': 0.030530915540419732, 'n_estimators': 188, 'max_depth': 15, 'min_child_weight': 23}. Best is trial 0 with value: 0.27585284350887745.\n",
      "[I 2023-12-09 16:16:38,269] Trial 5 finished with value: 0.28069310392342095 and parameters: {'lambda': 0.013081785249633104, 'alpha': 0.49568173320115894, 'colsample_bytree': 0.42063311266913106, 'subsample': 0.9455922412472693, 'learning_rate': 0.02595212016184169, 'n_estimators': 696, 'max_depth': 9, 'min_child_weight': 27}. Best is trial 0 with value: 0.27585284350887745.\n",
      "[I 2023-12-09 16:17:30,571] Trial 6 finished with value: 0.3084401826969167 and parameters: {'lambda': 0.05512431765498469, 'alpha': 0.18566960107000152, 'colsample_bytree': 0.9817507766587351, 'subsample': 0.8650796940166687, 'learning_rate': 0.0939559442622625, 'n_estimators': 906, 'max_depth': 14, 'min_child_weight': 47}. Best is trial 0 with value: 0.27585284350887745.\n",
      "[I 2023-12-09 16:17:46,594] Trial 7 finished with value: 0.2870577696985489 and parameters: {'lambda': 0.00976075770314003, 'alpha': 0.19678687955672605, 'colsample_bytree': 0.4271363733463229, 'subsample': 0.5951981984579586, 'learning_rate': 0.038928861239979254, 'n_estimators': 344, 'max_depth': 18, 'min_child_weight': 19}. Best is trial 0 with value: 0.27585284350887745.\n",
      "[I 2023-12-09 16:18:40,324] Trial 8 finished with value: 0.28263512308953453 and parameters: {'lambda': 0.028812516459050697, 'alpha': 0.5431533870750902, 'colsample_bytree': 0.4845545349848576, 'subsample': 0.8813181884524238, 'learning_rate': 0.007547609303609106, 'n_estimators': 989, 'max_depth': 17, 'min_child_weight': 11}. Best is trial 0 with value: 0.27585284350887745.\n",
      "[I 2023-12-09 16:18:46,488] Trial 9 finished with value: 0.2846999982613781 and parameters: {'lambda': 0.0015466895952366377, 'alpha': 0.8156459670263794, 'colsample_bytree': 0.8241144063085704, 'subsample': 0.8374043008245924, 'learning_rate': 0.07714990763392598, 'n_estimators': 166, 'max_depth': 10, 'min_child_weight': 7}. Best is trial 0 with value: 0.27585284350887745.\n",
      "[I 2023-12-09 16:18:53,143] Trial 10 finished with value: 0.31185038012185257 and parameters: {'lambda': 0.0896265529768728, 'alpha': 0.9329291379452771, 'colsample_bytree': 0.7936918182244491, 'subsample': 0.4107771253688919, 'learning_rate': 0.0016352369590776211, 'n_estimators': 494, 'max_depth': 4, 'min_child_weight': 49}. Best is trial 0 with value: 0.27585284350887745.\n",
      "[I 2023-12-09 16:18:57,267] Trial 11 finished with value: 0.27787044375543757 and parameters: {'lambda': 0.06306148084575021, 'alpha': 0.9925009016515475, 'colsample_bytree': 0.5762814283521771, 'subsample': 0.9717320417786611, 'learning_rate': 0.09503594314241838, 'n_estimators': 403, 'max_depth': 4, 'min_child_weight': 38}. Best is trial 0 with value: 0.27585284350887745.\n",
      "[I 2023-12-09 16:19:02,384] Trial 12 finished with value: 0.27710711097069707 and parameters: {'lambda': 0.07319059688507934, 'alpha': 0.9989978328481897, 'colsample_bytree': 0.6232017417848498, 'subsample': 0.7799540861815203, 'learning_rate': 0.05042924212453386, 'n_estimators': 428, 'max_depth': 4, 'min_child_weight': 38}. Best is trial 0 with value: 0.27585284350887745.\n",
      "[I 2023-12-09 16:19:15,109] Trial 13 finished with value: 0.28025631986262745 and parameters: {'lambda': 0.07898641523935364, 'alpha': 0.9949688488192655, 'colsample_bytree': 0.6887730957796137, 'subsample': 0.7318994586248574, 'learning_rate': 0.047099900175524484, 'n_estimators': 678, 'max_depth': 6, 'min_child_weight': 37}. Best is trial 0 with value: 0.27585284350887745.\n",
      "[I 2023-12-09 16:19:35,075] Trial 14 finished with value: 0.2804641779735068 and parameters: {'lambda': 0.07787818337566696, 'alpha': 0.8137549904332044, 'colsample_bytree': 0.7722498882422405, 'subsample': 0.7868042111608514, 'learning_rate': 0.018766947222278764, 'n_estimators': 534, 'max_depth': 11, 'min_child_weight': 39}. Best is trial 0 with value: 0.27585284350887745.\n",
      "[I 2023-12-09 16:19:41,534] Trial 15 finished with value: 0.27749563841015723 and parameters: {'lambda': 0.09984223045444102, 'alpha': 0.6802077129488338, 'colsample_bytree': 0.6197079975763715, 'subsample': 0.7777242273310716, 'learning_rate': 0.04107797037798861, 'n_estimators': 437, 'max_depth': 5, 'min_child_weight': 32}. Best is trial 0 with value: 0.27585284350887745.\n",
      "[I 2023-12-09 16:19:56,723] Trial 16 finished with value: 0.2776452868696797 and parameters: {'lambda': 0.04148610770395675, 'alpha': 0.8798974299086733, 'colsample_bytree': 0.742988497293355, 'subsample': 0.6323266302790382, 'learning_rate': 0.014244265741069885, 'n_estimators': 640, 'max_depth': 7, 'min_child_weight': 45}. Best is trial 0 with value: 0.27585284350887745.\n",
      "[I 2023-12-09 16:20:11,091] Trial 17 finished with value: 0.2810525145261075 and parameters: {'lambda': 0.06322512305024999, 'alpha': 0.8767471308347486, 'colsample_bytree': 0.8652861716113764, 'subsample': 0.6686913599596384, 'learning_rate': 0.03103910789369996, 'n_estimators': 315, 'max_depth': 12, 'min_child_weight': 42}. Best is trial 0 with value: 0.27585284350887745.\n",
      "[I 2023-12-09 16:21:03,888] Trial 18 finished with value: 0.2991421381428418 and parameters: {'lambda': 0.07198247612880308, 'alpha': 0.6908440789220212, 'colsample_bytree': 0.7120630638028915, 'subsample': 0.7758873481309698, 'learning_rate': 0.05405549250934805, 'n_estimators': 833, 'max_depth': 20, 'min_child_weight': 32}. Best is trial 0 with value: 0.27585284350887745.\n",
      "[I 2023-12-09 16:21:14,848] Trial 19 finished with value: 0.27725553559207694 and parameters: {'lambda': 0.04950530187739464, 'alpha': 0.9195172445421546, 'colsample_bytree': 0.6261975824598272, 'subsample': 0.690163022296513, 'learning_rate': 0.01821094606402801, 'n_estimators': 595, 'max_depth': 6, 'min_child_weight': 32}. Best is trial 0 with value: 0.27585284350887745.\n",
      "[I 2023-12-09 16:21:19,935] Trial 20 finished with value: 0.27778481169406766 and parameters: {'lambda': 0.03531515106465901, 'alpha': 0.9969643452631177, 'colsample_bytree': 0.880819600049023, 'subsample': 0.8278847278272046, 'learning_rate': 0.06746868513291907, 'n_estimators': 412, 'max_depth': 4, 'min_child_weight': 50}. Best is trial 0 with value: 0.27585284350887745.\n",
      "[I 2023-12-09 16:21:30,915] Trial 21 finished with value: 0.27743240853822443 and parameters: {'lambda': 0.05372421423956294, 'alpha': 0.8878211921084823, 'colsample_bytree': 0.6151181610665132, 'subsample': 0.729539596500897, 'learning_rate': 0.018007834303092406, 'n_estimators': 608, 'max_depth': 6, 'min_child_weight': 31}. Best is trial 0 with value: 0.27585284350887745.\n"
     ]
    },
    {
     "name": "stderr",
     "output_type": "stream",
     "text": [
      "[I 2023-12-09 16:21:40,514] Trial 22 finished with value: 0.2893232193247551 and parameters: {'lambda': 0.0467139907822923, 'alpha': 0.8732692860933504, 'colsample_bytree': 0.6678392576921028, 'subsample': 0.6885061433309765, 'learning_rate': 0.0022969779538975534, 'n_estimators': 504, 'max_depth': 6, 'min_child_weight': 42}. Best is trial 0 with value: 0.27585284350887745.\n",
      "[I 2023-12-09 16:22:01,022] Trial 23 finished with value: 0.2855615970429135 and parameters: {'lambda': 0.040530686876425644, 'alpha': 0.991549382380117, 'colsample_bytree': 0.5617385677616494, 'subsample': 0.7592124760561969, 'learning_rate': 0.044732695568703226, 'n_estimators': 758, 'max_depth': 9, 'min_child_weight': 35}. Best is trial 0 with value: 0.27585284350887745.\n",
      "[I 2023-12-09 16:22:04,613] Trial 24 finished with value: 0.2768561273972392 and parameters: {'lambda': 0.02257305227451984, 'alpha': 0.7776198450984917, 'colsample_bytree': 0.732843028879555, 'subsample': 0.8139566329840936, 'learning_rate': 0.03612838796038759, 'n_estimators': 240, 'max_depth': 5, 'min_child_weight': 27}. Best is trial 0 with value: 0.27585284350887745.\n",
      "[I 2023-12-09 16:22:07,663] Trial 25 finished with value: 0.27696853082766965 and parameters: {'lambda': 0.02078705297694599, 'alpha': 0.7762081525260187, 'colsample_bytree': 0.7271243620868382, 'subsample': 0.8104846837823172, 'learning_rate': 0.05035880304134295, 'n_estimators': 242, 'max_depth': 4, 'min_child_weight': 26}. Best is trial 0 with value: 0.27585284350887745.\n",
      "[I 2023-12-09 16:22:13,976] Trial 26 finished with value: 0.2784395588729602 and parameters: {'lambda': 0.0211306589945617, 'alpha': 0.7678544540482128, 'colsample_bytree': 0.7333663830783048, 'subsample': 0.8267253089231709, 'learning_rate': 0.03685321465333931, 'n_estimators': 248, 'max_depth': 8, 'min_child_weight': 26}. Best is trial 0 with value: 0.27585284350887745.\n",
      "[I 2023-12-09 16:22:15,729] Trial 27 finished with value: 0.27503797579693756 and parameters: {'lambda': 0.02113675658527982, 'alpha': 0.6523371085784652, 'colsample_bytree': 0.7416624460475786, 'subsample': 0.9098155870701462, 'learning_rate': 0.026277128328038708, 'n_estimators': 112, 'max_depth': 5, 'min_child_weight': 2}. Best is trial 27 with value: 0.27503797579693756.\n",
      "[I 2023-12-09 16:22:19,789] Trial 28 finished with value: 0.27678110915310183 and parameters: {'lambda': 0.023880119525213697, 'alpha': 0.6156441852610073, 'colsample_bytree': 0.7754193518175359, 'subsample': 0.9116467342870046, 'learning_rate': 0.026603248484427418, 'n_estimators': 154, 'max_depth': 8, 'min_child_weight': 3}. Best is trial 27 with value: 0.27503797579693756.\n",
      "[I 2023-12-09 16:22:22,576] Trial 29 finished with value: 0.2751867556519895 and parameters: {'lambda': 0.033945932642734794, 'alpha': 0.6297564058622328, 'colsample_bytree': 0.8171030562540438, 'subsample': 0.9187302215612225, 'learning_rate': 0.024786794353827753, 'n_estimators': 100, 'max_depth': 8, 'min_child_weight': 2}. Best is trial 27 with value: 0.27503797579693756.\n",
      "[I 2023-12-09 16:22:24,978] Trial 30 finished with value: 0.29517864353635204 and parameters: {'lambda': 0.03690745853719571, 'alpha': 0.43133918650327463, 'colsample_bytree': 0.8300164829480552, 'subsample': 0.9913517340443936, 'learning_rate': 0.009662330848133088, 'n_estimators': 107, 'max_depth': 7, 'min_child_weight': 2}. Best is trial 27 with value: 0.27503797579693756.\n",
      "[I 2023-12-09 16:22:27,793] Trial 31 finished with value: 0.27521385059519693 and parameters: {'lambda': 0.02892663091632144, 'alpha': 0.6295916713289494, 'colsample_bytree': 0.7869978623002734, 'subsample': 0.930896531418047, 'learning_rate': 0.023946254640546973, 'n_estimators': 108, 'max_depth': 8, 'min_child_weight': 2}. Best is trial 27 with value: 0.27503797579693756.\n",
      "[I 2023-12-09 16:22:31,951] Trial 32 finished with value: 0.276212705720206 and parameters: {'lambda': 0.036023212270231746, 'alpha': 0.6424653638385089, 'colsample_bytree': 0.8946236395672997, 'subsample': 0.9332002385502524, 'learning_rate': 0.02544441022981541, 'n_estimators': 134, 'max_depth': 9, 'min_child_weight': 14}. Best is trial 27 with value: 0.27503797579693756.\n",
      "[I 2023-12-09 16:22:38,856] Trial 33 finished with value: 0.2776087006603982 and parameters: {'lambda': 0.029247532566144627, 'alpha': 0.603850840772959, 'colsample_bytree': 0.8121031020150051, 'subsample': 0.9152116982276572, 'learning_rate': 0.0210444380909943, 'n_estimators': 195, 'max_depth': 10, 'min_child_weight': 6}. Best is trial 27 with value: 0.27503797579693756.\n",
      "[I 2023-12-09 16:22:41,091] Trial 34 finished with value: 0.28602095510040204 and parameters: {'lambda': 0.03106958372116227, 'alpha': 0.7359853170263568, 'colsample_bytree': 0.7647042785295444, 'subsample': 0.9990980125296525, 'learning_rate': 0.012331374736466099, 'n_estimators': 101, 'max_depth': 7, 'min_child_weight': 6}. Best is trial 27 with value: 0.27503797579693756.\n",
      "[I 2023-12-09 16:22:45,828] Trial 35 finished with value: 0.2770003200961983 and parameters: {'lambda': 0.017418802752560275, 'alpha': 0.6649074676192009, 'colsample_bytree': 0.8466891158168723, 'subsample': 0.9507085078274584, 'learning_rate': 0.03206190000463828, 'n_estimators': 325, 'max_depth': 5, 'min_child_weight': 13}. Best is trial 27 with value: 0.27503797579693756.\n",
      "[I 2023-12-09 16:22:51,097] Trial 36 finished with value: 0.27705941290695785 and parameters: {'lambda': 0.027509043296305432, 'alpha': 0.7300506594957796, 'colsample_bytree': 0.8093225140977528, 'subsample': 0.8691801411139067, 'learning_rate': 0.023868034394133722, 'n_estimators': 201, 'max_depth': 8, 'min_child_weight': 18}. Best is trial 27 with value: 0.27503797579693756.\n",
      "[I 2023-12-09 16:23:04,611] Trial 37 finished with value: 0.2841012207313838 and parameters: {'lambda': 0.01480098337725021, 'alpha': 0.5725253797791168, 'colsample_bytree': 0.693959401526386, 'subsample': 0.9016808221684591, 'learning_rate': 0.031278442382761465, 'n_estimators': 279, 'max_depth': 13, 'min_child_weight': 8}. Best is trial 27 with value: 0.27503797579693756.\n",
      "[I 2023-12-09 16:23:09,417] Trial 38 finished with value: 0.28167710964006254 and parameters: {'lambda': 0.04503048924106387, 'alpha': 0.5064749174792206, 'colsample_bytree': 0.914759180691488, 'subsample': 0.9641396232583058, 'learning_rate': 0.01448988271751247, 'n_estimators': 102, 'max_depth': 11, 'min_child_weight': 3}. Best is trial 27 with value: 0.27503797579693756.\n",
      "[I 2023-12-09 16:23:12,478] Trial 39 finished with value: 0.29389126867458343 and parameters: {'lambda': 0.03322097395861847, 'alpha': 0.44307323150141487, 'colsample_bytree': 0.933171614057598, 'subsample': 0.8595438314859586, 'learning_rate': 0.006213767900248359, 'n_estimators': 170, 'max_depth': 5, 'min_child_weight': 15}. Best is trial 27 with value: 0.27503797579693756.\n",
      "[I 2023-12-09 16:23:20,048] Trial 40 finished with value: 0.27770114785930666 and parameters: {'lambda': 0.02717530496885391, 'alpha': 0.578757538821132, 'colsample_bytree': 0.8446251168585407, 'subsample': 0.9344082392606521, 'learning_rate': 0.023141808639330116, 'n_estimators': 350, 'max_depth': 7, 'min_child_weight': 22}. Best is trial 27 with value: 0.27503797579693756.\n",
      "[I 2023-12-09 16:23:24,551] Trial 41 finished with value: 0.27699295801023216 and parameters: {'lambda': 0.03643573512262961, 'alpha': 0.6402069153658636, 'colsample_bytree': 0.7989799996656433, 'subsample': 0.9299593406429726, 'learning_rate': 0.027750032492705086, 'n_estimators': 146, 'max_depth': 9, 'min_child_weight': 10}. Best is trial 27 with value: 0.27503797579693756.\n",
      "[I 2023-12-09 16:23:32,280] Trial 42 finished with value: 0.2785006541026844 and parameters: {'lambda': 0.040586056951373004, 'alpha': 0.6384730966276693, 'colsample_bytree': 0.8677180228008092, 'subsample': 0.8864596170934517, 'learning_rate': 0.02444102770415735, 'n_estimators': 207, 'max_depth': 10, 'min_child_weight': 5}. Best is trial 27 with value: 0.27503797579693756.\n",
      "[I 2023-12-09 16:23:36,072] Trial 43 finished with value: 0.2771764225576568 and parameters: {'lambda': 0.03370567369825632, 'alpha': 0.7137536004768383, 'colsample_bytree': 0.9013663863534774, 'subsample': 0.9547983089512889, 'learning_rate': 0.03440730736754024, 'n_estimators': 131, 'max_depth': 8, 'min_child_weight': 13}. Best is trial 27 with value: 0.27503797579693756.\n"
     ]
    },
    {
     "name": "stderr",
     "output_type": "stream",
     "text": [
      "[I 2023-12-09 16:23:46,557] Trial 44 finished with value: 0.27995650206738254 and parameters: {'lambda': 0.010626102166477178, 'alpha': 0.5466230449660341, 'colsample_bytree': 0.9524527922054138, 'subsample': 0.8540256896157712, 'learning_rate': 0.028117097563580752, 'n_estimators': 285, 'max_depth': 9, 'min_child_weight': 4}. Best is trial 27 with value: 0.27503797579693756.\n",
      "[I 2023-12-09 16:23:53,018] Trial 45 finished with value: 0.27671623062692197 and parameters: {'lambda': 0.017012955146556635, 'alpha': 0.8336430359026353, 'colsample_bytree': 0.8843627063595672, 'subsample': 0.8996570345553732, 'learning_rate': 0.02116830517422659, 'n_estimators': 154, 'max_depth': 11, 'min_child_weight': 8}. Best is trial 27 with value: 0.27503797579693756.\n",
      "[I 2023-12-09 16:23:56,248] Trial 46 finished with value: 0.27713720140424014 and parameters: {'lambda': 0.026163867753485157, 'alpha': 0.6639542895544751, 'colsample_bytree': 0.8350333193447442, 'subsample': 0.9724935232358467, 'learning_rate': 0.04042044605055714, 'n_estimators': 183, 'max_depth': 6, 'min_child_weight': 11}. Best is trial 27 with value: 0.27503797579693756.\n",
      "[I 2023-12-09 16:24:03,086] Trial 47 finished with value: 0.2763433485822707 and parameters: {'lambda': 0.03177439598567643, 'alpha': 0.727048136084518, 'colsample_bytree': 0.7598641050217316, 'subsample': 0.9311425449473492, 'learning_rate': 0.015380285721360062, 'n_estimators': 134, 'max_depth': 14, 'min_child_weight': 17}. Best is trial 27 with value: 0.27503797579693756.\n",
      "[I 2023-12-09 16:24:16,785] Trial 48 finished with value: 0.27667518677459796 and parameters: {'lambda': 0.03777010923797531, 'alpha': 0.4731251438218792, 'colsample_bytree': 0.7906466476448236, 'subsample': 0.8823637260365136, 'learning_rate': 0.011527108470436337, 'n_estimators': 226, 'max_depth': 16, 'min_child_weight': 21}. Best is trial 27 with value: 0.27503797579693756.\n",
      "[I 2023-12-09 16:24:29,853] Trial 49 finished with value: 0.2761805504337732 and parameters: {'lambda': 0.04373148008358918, 'alpha': 0.5310974944086141, 'colsample_bytree': 0.8523547961755378, 'subsample': 0.9805333382034124, 'learning_rate': 0.00619359845838661, 'n_estimators': 357, 'max_depth': 10, 'min_child_weight': 2}. Best is trial 27 with value: 0.27503797579693756.\n",
      "[I 2023-12-09 16:24:43,000] Trial 50 finished with value: 0.2769540054378681 and parameters: {'lambda': 0.04379961341784804, 'alpha': 0.4078058801467307, 'colsample_bytree': 0.8586398757479613, 'subsample': 0.9778836870196377, 'learning_rate': 0.005227193495941675, 'n_estimators': 363, 'max_depth': 10, 'min_child_weight': 2}. Best is trial 27 with value: 0.27503797579693756.\n",
      "[I 2023-12-09 16:24:55,501] Trial 51 finished with value: 0.27964423632800595 and parameters: {'lambda': 0.048424918323096686, 'alpha': 0.5296682763470527, 'colsample_bytree': 0.816812590327334, 'subsample': 0.9465800361552297, 'learning_rate': 0.016999505161730887, 'n_estimators': 280, 'max_depth': 12, 'min_child_weight': 9}. Best is trial 27 with value: 0.27503797579693756.\n",
      "[I 2023-12-09 16:25:00,053] Trial 52 finished with value: 0.28633174352894447 and parameters: {'lambda': 0.03924162518671961, 'alpha': 0.5900722713855932, 'colsample_bytree': 0.8957368109707238, 'subsample': 0.9209303924683282, 'learning_rate': 0.009661783278627968, 'n_estimators': 129, 'max_depth': 9, 'min_child_weight': 5}. Best is trial 27 with value: 0.27503797579693756.\n",
      "[I 2023-12-09 16:25:06,239] Trial 53 finished with value: 0.27718285233267764 and parameters: {'lambda': 0.03083964211715796, 'alpha': 0.6782534300807105, 'colsample_bytree': 0.7895580185034297, 'subsample': 0.9750979220999632, 'learning_rate': 0.02060345481863729, 'n_estimators': 178, 'max_depth': 10, 'min_child_weight': 7}. Best is trial 27 with value: 0.27503797579693756.\n",
      "[I 2023-12-09 16:25:12,196] Trial 54 finished with value: 0.27761887019532344 and parameters: {'lambda': 0.043252823383098424, 'alpha': 0.5557567956302976, 'colsample_bytree': 0.8569382175991364, 'subsample': 0.889575178631968, 'learning_rate': 0.02836683365706653, 'n_estimators': 255, 'max_depth': 7, 'min_child_weight': 2}. Best is trial 27 with value: 0.27503797579693756.\n",
      "[I 2023-12-09 16:25:17,502] Trial 55 finished with value: 0.3228975821235022 and parameters: {'lambda': 0.05317129168757742, 'alpha': 0.6334409281473735, 'colsample_bytree': 0.8308231129590777, 'subsample': 0.9953016873885095, 'learning_rate': 0.0018672862309683713, 'n_estimators': 376, 'max_depth': 5, 'min_child_weight': 12}. Best is trial 27 with value: 0.27503797579693756.\n",
      "[I 2023-12-09 16:25:40,408] Trial 56 finished with value: 0.28149080834541435 and parameters: {'lambda': 0.03356328095256641, 'alpha': 0.49544338809971744, 'colsample_bytree': 0.8775964218708191, 'subsample': 0.8486285212941219, 'learning_rate': 0.013250217360658968, 'n_estimators': 458, 'max_depth': 12, 'min_child_weight': 4}. Best is trial 27 with value: 0.27503797579693756.\n",
      "[I 2023-12-09 16:25:44,001] Trial 57 finished with value: 0.2756527114097472 and parameters: {'lambda': 0.025509639969856352, 'alpha': 0.8312115350946572, 'colsample_bytree': 0.7538357047742414, 'subsample': 0.9516220676285445, 'learning_rate': 0.017574874679560704, 'n_estimators': 199, 'max_depth': 6, 'min_child_weight': 16}. Best is trial 27 with value: 0.27503797579693756.\n",
      "[I 2023-12-09 16:25:49,454] Trial 58 finished with value: 0.27497521425158783 and parameters: {'lambda': 0.024932625169055336, 'alpha': 0.949190060201716, 'colsample_bytree': 0.7537870637896558, 'subsample': 0.9578478087478153, 'learning_rate': 0.006779774897128783, 'n_estimators': 313, 'max_depth': 6, 'min_child_weight': 24}. Best is trial 58 with value: 0.27497521425158783.\n",
      "[I 2023-12-09 16:25:53,310] Trial 59 finished with value: 0.2757031804990401 and parameters: {'lambda': 0.02440776025968306, 'alpha': 0.9143391423774955, 'colsample_bytree': 0.7569677969696577, 'subsample': 0.8743883556725942, 'learning_rate': 0.017493047335541533, 'n_estimators': 207, 'max_depth': 6, 'min_child_weight': 20}. Best is trial 58 with value: 0.27497521425158783.\n",
      "[I 2023-12-09 16:25:57,184] Trial 60 finished with value: 0.27568601209983135 and parameters: {'lambda': 0.024316538981582345, 'alpha': 0.9540888669819562, 'colsample_bytree': 0.7525155310019255, 'subsample': 0.9066406333747992, 'learning_rate': 0.017211603229903054, 'n_estimators': 208, 'max_depth': 6, 'min_child_weight': 24}. Best is trial 58 with value: 0.27497521425158783.\n",
      "[I 2023-12-09 16:26:00,960] Trial 61 finished with value: 0.27571305728994705 and parameters: {'lambda': 0.01953549243253204, 'alpha': 0.9387531390251135, 'colsample_bytree': 0.7468619780082834, 'subsample': 0.9067113542108942, 'learning_rate': 0.017545326800447947, 'n_estimators': 207, 'max_depth': 6, 'min_child_weight': 24}. Best is trial 58 with value: 0.27497521425158783.\n",
      "[I 2023-12-09 16:26:05,286] Trial 62 finished with value: 0.27498494619390845 and parameters: {'lambda': 0.02443867592435561, 'alpha': 0.9061440220279257, 'colsample_bytree': 0.7165753738699766, 'subsample': 0.9518644971466703, 'learning_rate': 0.00968688137782146, 'n_estimators': 305, 'max_depth': 5, 'min_child_weight': 30}. Best is trial 58 with value: 0.27497521425158783.\n",
      "[I 2023-12-09 16:26:08,850] Trial 63 finished with value: 0.2751355996516674 and parameters: {'lambda': 0.023944874085533946, 'alpha': 0.9670976513584874, 'colsample_bytree': 0.7062103711056025, 'subsample': 0.9567234196684282, 'learning_rate': 0.009568514595344572, 'n_estimators': 314, 'max_depth': 4, 'min_child_weight': 29}. Best is trial 58 with value: 0.27497521425158783.\n",
      "[I 2023-12-09 16:26:13,240] Trial 64 finished with value: 0.27550543645190295 and parameters: {'lambda': 0.020355751188542968, 'alpha': 0.8416718761591634, 'colsample_bytree': 0.7109060772600032, 'subsample': 0.9546284083885521, 'learning_rate': 0.00865844640779894, 'n_estimators': 394, 'max_depth': 4, 'min_child_weight': 29}. Best is trial 58 with value: 0.27497521425158783.\n",
      "[I 2023-12-09 16:26:16,826] Trial 65 finished with value: 0.4068744142918308 and parameters: {'lambda': 0.014577685858762564, 'alpha': 0.8564155509750211, 'colsample_bytree': 0.7125630481262811, 'subsample': 0.9591830858610911, 'learning_rate': 0.0008368602281546497, 'n_estimators': 320, 'max_depth': 4, 'min_child_weight': 28}. Best is trial 58 with value: 0.27497521425158783.\n"
     ]
    },
    {
     "name": "stderr",
     "output_type": "stream",
     "text": [
      "[I 2023-12-09 16:26:23,402] Trial 66 finished with value: 0.27625571282446915 and parameters: {'lambda': 0.010207350892826438, 'alpha': 0.9015257560885556, 'colsample_bytree': 0.6703558503105629, 'subsample': 0.9417526489932739, 'learning_rate': 0.009807879379052416, 'n_estimators': 480, 'max_depth': 5, 'min_child_weight': 29}. Best is trial 58 with value: 0.27497521425158783.\n",
      "[I 2023-12-09 16:26:27,848] Trial 67 finished with value: 0.2752715300123911 and parameters: {'lambda': 0.02055233680395401, 'alpha': 0.798612221837634, 'colsample_bytree': 0.7157215697856235, 'subsample': 0.9238877351725046, 'learning_rate': 0.007994968281537205, 'n_estimators': 392, 'max_depth': 4, 'min_child_weight': 34}. Best is trial 58 with value: 0.27497521425158783.\n",
      "[I 2023-12-09 16:26:34,152] Trial 68 finished with value: 0.27502711139522285 and parameters: {'lambda': 0.027739302180147883, 'alpha': 0.7926830429571868, 'colsample_bytree': 0.7238547412870688, 'subsample': 0.920909647781203, 'learning_rate': 0.0051003660677184275, 'n_estimators': 561, 'max_depth': 4, 'min_child_weight': 33}. Best is trial 58 with value: 0.27497521425158783.\n",
      "[I 2023-12-09 16:26:41,871] Trial 69 finished with value: 0.2749192769289896 and parameters: {'lambda': 0.022967286648346994, 'alpha': 0.9676280979873078, 'colsample_bytree': 0.7782005852314475, 'subsample': 0.9958482739232014, 'learning_rate': 0.003961518190050556, 'n_estimators': 560, 'max_depth': 5, 'min_child_weight': 35}. Best is trial 69 with value: 0.2749192769289896.\n",
      "[I 2023-12-09 16:26:49,019] Trial 70 finished with value: 0.27523189310873253 and parameters: {'lambda': 0.017823038470144967, 'alpha': 0.9612422396283458, 'colsample_bytree': 0.6880261410050101, 'subsample': 0.9898189279826217, 'learning_rate': 0.003859897098185558, 'n_estimators': 529, 'max_depth': 5, 'min_child_weight': 35}. Best is trial 69 with value: 0.2749192769289896.\n",
      "[I 2023-12-09 16:26:56,715] Trial 71 finished with value: 0.3600946890439212 and parameters: {'lambda': 0.028530062561987757, 'alpha': 0.8846979817374725, 'colsample_bytree': 0.7269125451509431, 'subsample': 0.964020163290308, 'learning_rate': 0.0008239836585248496, 'n_estimators': 560, 'max_depth': 5, 'min_child_weight': 31}. Best is trial 69 with value: 0.2749192769289896.\n",
      "[I 2023-12-09 16:27:03,417] Trial 72 finished with value: 0.275521444725452 and parameters: {'lambda': 0.022580159477175576, 'alpha': 0.9223206101711171, 'colsample_bytree': 0.781214500247412, 'subsample': 0.9970792585279046, 'learning_rate': 0.005459624437849937, 'n_estimators': 622, 'max_depth': 4, 'min_child_weight': 39}. Best is trial 69 with value: 0.2749192769289896.\n",
      "[I 2023-12-09 16:27:17,024] Trial 73 finished with value: 0.27736754918613693 and parameters: {'lambda': 0.02774012735898126, 'alpha': 0.9734204326741456, 'colsample_bytree': 0.7748614924161396, 'subsample': 0.9395304521165364, 'learning_rate': 0.01190489050260891, 'n_estimators': 678, 'max_depth': 7, 'min_child_weight': 36}. Best is trial 69 with value: 0.2749192769289896.\n",
      "[I 2023-12-09 16:27:24,706] Trial 74 finished with value: 0.2767715934848006 and parameters: {'lambda': 0.029441531522524236, 'alpha': 0.9314547713657298, 'colsample_bytree': 0.7405228948390172, 'subsample': 0.9153631175988889, 'learning_rate': 0.01445920375223702, 'n_estimators': 566, 'max_depth': 5, 'min_child_weight': 33}. Best is trial 69 with value: 0.2749192769289896.\n",
      "[I 2023-12-09 16:27:32,579] Trial 75 finished with value: 0.2764278234497517 and parameters: {'lambda': 0.02413870529995026, 'alpha': 0.9738952507223245, 'colsample_bytree': 0.7692637016451825, 'subsample': 0.9703947363562012, 'learning_rate': 0.007064322735519568, 'n_estimators': 733, 'max_depth': 4, 'min_child_weight': 41}. Best is trial 69 with value: 0.2749192769289896.\n",
      "[I 2023-12-09 16:27:39,203] Trial 76 finished with value: 0.27661527138599745 and parameters: {'lambda': 0.012914615986746448, 'alpha': 0.8630194681676039, 'colsample_bytree': 0.8058254605841384, 'subsample': 0.891877393643089, 'learning_rate': 0.00394588378597218, 'n_estimators': 447, 'max_depth': 5, 'min_child_weight': 29}. Best is trial 69 with value: 0.2749192769289896.\n",
      "[I 2023-12-09 16:27:49,584] Trial 77 finished with value: 0.2769203815733048 and parameters: {'lambda': 0.021753320014024802, 'alpha': 0.9094980088281808, 'colsample_bytree': 0.7366838418315281, 'subsample': 0.9205841900270236, 'learning_rate': 0.01168374621539462, 'n_estimators': 511, 'max_depth': 7, 'min_child_weight': 31}. Best is trial 69 with value: 0.2749192769289896.\n",
      "[I 2023-12-09 16:27:56,237] Trial 78 finished with value: 0.2752366211357776 and parameters: {'lambda': 0.030274059025629033, 'alpha': 0.7564343691212635, 'colsample_bytree': 0.6918516279761039, 'subsample': 0.8742515169079152, 'learning_rate': 0.0035840548090798844, 'n_estimators': 577, 'max_depth': 4, 'min_child_weight': 45}. Best is trial 69 with value: 0.2749192769289896.\n",
      "[I 2023-12-09 16:28:21,268] Trial 79 finished with value: 0.27695808073977923 and parameters: {'lambda': 0.02615063540302318, 'alpha': 0.8176592978227117, 'colsample_bytree': 0.7840910755274746, 'subsample': 0.9407381644261844, 'learning_rate': 0.007998535962777345, 'n_estimators': 418, 'max_depth': 19, 'min_child_weight': 37}. Best is trial 69 with value: 0.2749192769289896.\n",
      "[I 2023-12-09 16:28:32,010] Trial 80 finished with value: 0.2784865291439949 and parameters: {'lambda': 0.03483286839351515, 'alpha': 0.9619716409995783, 'colsample_bytree': 0.723954800995517, 'subsample': 0.9798565208028946, 'learning_rate': 0.021023478469703025, 'n_estimators': 472, 'max_depth': 8, 'min_child_weight': 33}. Best is trial 69 with value: 0.2749192769289896.\n",
      "[I 2023-12-09 16:28:40,819] Trial 81 finished with value: 0.2750379427230474 and parameters: {'lambda': 0.006974075036630278, 'alpha': 0.9628504987792551, 'colsample_bytree': 0.7030696372044433, 'subsample': 0.9873359775360268, 'learning_rate': 0.003247787142470912, 'n_estimators': 652, 'max_depth': 5, 'min_child_weight': 35}. Best is trial 69 with value: 0.2749192769289896.\n",
      "[I 2023-12-09 16:28:47,927] Trial 82 finished with value: 0.27586142057028135 and parameters: {'lambda': 0.005277697972980971, 'alpha': 0.9480819344056347, 'colsample_bytree': 0.70378085663022, 'subsample': 0.9656630302158787, 'learning_rate': 0.0029091507613104375, 'n_estimators': 655, 'max_depth': 4, 'min_child_weight': 39}. Best is trial 69 with value: 0.2749192769289896.\n",
      "[I 2023-12-09 16:28:58,188] Trial 83 finished with value: 0.2768294795715879 and parameters: {'lambda': 0.017340201284550265, 'alpha': 0.8911845680075346, 'colsample_bytree': 0.6775359693512019, 'subsample': 0.9976986451710049, 'learning_rate': 0.01017557642736547, 'n_estimators': 799, 'max_depth': 5, 'min_child_weight': 30}. Best is trial 69 with value: 0.2749192769289896.\n",
      "[I 2023-12-09 16:29:07,959] Trial 84 finished with value: 0.2771027246472835 and parameters: {'lambda': 0.02235478187381325, 'alpha': 0.976164591272402, 'colsample_bytree': 0.6556797823414189, 'subsample': 0.9290999846827099, 'learning_rate': 0.014702560723050977, 'n_estimators': 594, 'max_depth': 6, 'min_child_weight': 34}. Best is trial 69 with value: 0.2749192769289896.\n",
      "[I 2023-12-09 16:29:15,358] Trial 85 finished with value: 0.27535941725466906 and parameters: {'lambda': 0.007460576418948123, 'alpha': 0.9325693480294462, 'colsample_bytree': 0.7385169109460425, 'subsample': 0.9837059514948684, 'learning_rate': 0.006073305311937114, 'n_estimators': 538, 'max_depth': 5, 'min_child_weight': 25}. Best is trial 69 with value: 0.2749192769289896.\n",
      "[I 2023-12-09 16:29:22,445] Trial 86 finished with value: 0.4623079008745622 and parameters: {'lambda': 0.031273228769767486, 'alpha': 0.8698269713691562, 'colsample_bytree': 0.7673278036035486, 'subsample': 0.9503540000592888, 'learning_rate': 0.00016713422026918417, 'n_estimators': 638, 'max_depth': 4, 'min_child_weight': 27}. Best is trial 69 with value: 0.2749192769289896.\n",
      "[I 2023-12-09 16:29:27,880] Trial 87 finished with value: 0.2758747282917246 and parameters: {'lambda': 0.027529563107972457, 'alpha': 0.9900782790687644, 'colsample_bytree': 0.8008691052950513, 'subsample': 0.9025129472890935, 'learning_rate': 0.012862719764946516, 'n_estimators': 303, 'max_depth': 6, 'min_child_weight': 37}. Best is trial 69 with value: 0.2749192769289896.\n"
     ]
    },
    {
     "name": "stderr",
     "output_type": "stream",
     "text": [
      "[I 2023-12-09 16:29:37,875] Trial 88 finished with value: 0.2747944916686184 and parameters: {'lambda': 0.018996125692128704, 'alpha': 0.9955756403984131, 'colsample_bytree': 0.8198962477380932, 'subsample': 0.9646293166177486, 'learning_rate': 0.0036701912549986218, 'n_estimators': 717, 'max_depth': 5, 'min_child_weight': 33}. Best is trial 88 with value: 0.2747944916686184.\n",
      "[I 2023-12-09 16:29:47,976] Trial 89 finished with value: 0.27480578198646655 and parameters: {'lambda': 0.01882777008810925, 'alpha': 0.899813117107597, 'colsample_bytree': 0.7009185772037204, 'subsample': 0.96197040296493, 'learning_rate': 0.0030605975955611325, 'n_estimators': 734, 'max_depth': 5, 'min_child_weight': 33}. Best is trial 88 with value: 0.2747944916686184.\n",
      "[I 2023-12-09 16:29:56,324] Trial 90 finished with value: 0.46697411865191696 and parameters: {'lambda': 0.013574571364662228, 'alpha': 0.9992021564683484, 'colsample_bytree': 0.699043379793506, 'subsample': 0.9669233718588048, 'learning_rate': 0.00012249843611828945, 'n_estimators': 777, 'max_depth': 4, 'min_child_weight': 33}. Best is trial 88 with value: 0.2747944916686184.\n",
      "[I 2023-12-09 16:30:06,328] Trial 91 finished with value: 0.27520255850802444 and parameters: {'lambda': 0.018509079499907273, 'alpha': 0.9000935389658219, 'colsample_bytree': 0.7214814434430683, 'subsample': 0.9824280972100126, 'learning_rate': 0.004269806323809528, 'n_estimators': 736, 'max_depth': 5, 'min_child_weight': 35}. Best is trial 88 with value: 0.2747944916686184.\n",
      "[I 2023-12-09 16:30:15,931] Trial 92 finished with value: 0.2764843620212941 and parameters: {'lambda': 0.015754670479009684, 'alpha': 0.9342302728056829, 'colsample_bytree': 0.7258371709250594, 'subsample': 0.9608724654456521, 'learning_rate': 0.007805867616986166, 'n_estimators': 709, 'max_depth': 5, 'min_child_weight': 32}. Best is trial 88 with value: 0.2747944916686184.\n",
      "[I 2023-12-09 16:30:28,455] Trial 93 finished with value: 0.274715148932495 and parameters: {'lambda': 0.02038364412442828, 'alpha': 0.9518984718482559, 'colsample_bytree': 0.8244013234312235, 'subsample': 0.9422387795962343, 'learning_rate': 0.002770450246681311, 'n_estimators': 883, 'max_depth': 5, 'min_child_weight': 30}. Best is trial 93 with value: 0.274715148932495.\n",
      "[I 2023-12-09 16:30:40,851] Trial 94 finished with value: 0.27505315952509624 and parameters: {'lambda': 0.01946888601399874, 'alpha': 0.9422055235198634, 'colsample_bytree': 0.7487366510101598, 'subsample': 0.9446263477306318, 'learning_rate': 0.0033445284197582414, 'n_estimators': 892, 'max_depth': 5, 'min_child_weight': 28}. Best is trial 93 with value: 0.274715148932495.\n",
      "[I 2023-12-09 16:30:53,466] Trial 95 finished with value: 0.2766674479577056 and parameters: {'lambda': 0.01922659316372261, 'alpha': 0.9134312908808787, 'colsample_bytree': 0.7421823082835465, 'subsample': 0.9437663409092425, 'learning_rate': 0.0019504606359303045, 'n_estimators': 905, 'max_depth': 5, 'min_child_weight': 41}. Best is trial 93 with value: 0.274715148932495.\n",
      "[I 2023-12-09 16:31:08,095] Trial 96 finished with value: 0.2761343742372821 and parameters: {'lambda': 0.0159905135691632, 'alpha': 0.9472397901253717, 'colsample_bytree': 0.7626434818784156, 'subsample': 0.9850098558850975, 'learning_rate': 0.004790210914097253, 'n_estimators': 887, 'max_depth': 6, 'min_child_weight': 31}. Best is trial 93 with value: 0.274715148932495.\n",
      "[I 2023-12-09 16:31:24,816] Trial 97 finished with value: 0.2747177831669217 and parameters: {'lambda': 0.01252282096197507, 'alpha': 0.8904294786737907, 'colsample_bytree': 0.8215145944042224, 'subsample': 0.9326059950579724, 'learning_rate': 0.0027661521137462624, 'n_estimators': 963, 'max_depth': 6, 'min_child_weight': 36}. Best is trial 93 with value: 0.274715148932495.\n",
      "[I 2023-12-09 16:31:45,011] Trial 98 finished with value: 0.2772620034869153 and parameters: {'lambda': 0.012026684915077617, 'alpha': 0.8555909423859884, 'colsample_bytree': 0.7967342617528043, 'subsample': 0.9309212448751694, 'learning_rate': 0.007511051731959721, 'n_estimators': 975, 'max_depth': 7, 'min_child_weight': 36}. Best is trial 93 with value: 0.274715148932495.\n",
      "[I 2023-12-09 16:32:01,078] Trial 99 finished with value: 0.27673628555780116 and parameters: {'lambda': 0.014674575290343701, 'alpha': 0.8848217111293935, 'colsample_bytree': 0.817137897106415, 'subsample': 0.9717584147342785, 'learning_rate': 0.006186875881355404, 'n_estimators': 956, 'max_depth': 6, 'min_child_weight': 38}. Best is trial 93 with value: 0.274715148932495.\n"
     ]
    },
    {
     "name": "stdout",
     "output_type": "stream",
     "text": [
      "Best trial: {'lambda': 0.02038364412442828, 'alpha': 0.9518984718482559, 'colsample_bytree': 0.8244013234312235, 'subsample': 0.9422387795962343, 'learning_rate': 0.002770450246681311, 'n_estimators': 883, 'max_depth': 5, 'min_child_weight': 30}\n",
      "Best score: 0.274715148932495\n"
     ]
    }
   ],
   "source": [
    "study =  optuna.create_study(study_name='Xgb', direction='minimize',sampler=TPESampler(seed=42) )\n",
    "study.optimize(lambda trial: objective(trial,X_train,  y_train ,X_valid , y_valid ),n_trials=100, timeout = 1000 )\n",
    "print('Best trial:', study.best_trial.params)\n",
    "print('Best score:', study.best_value)"
   ]
  },
  {
   "cell_type": "code",
   "execution_count": 12,
   "id": "bc88f154",
   "metadata": {},
   "outputs": [
    {
     "name": "stderr",
     "output_type": "stream",
     "text": [
      "Processing folds: 100%|██████████████████████████████████████████████████████████████████| 5/5 [01:00<00:00, 12.18s/it]"
     ]
    },
    {
     "name": "stdout",
     "output_type": "stream",
     "text": [
      "Validation : RMSLE scores for each fold: [0.27649451142710235, 0.2807618284962091, 0.2751382161529211, 0.2648698341279104, 0.27359812753510987]\n",
      "Validation : RMSLE: 0.27417250354785055\n"
     ]
    },
    {
     "name": "stderr",
     "output_type": "stream",
     "text": [
      "\n"
     ]
    }
   ],
   "source": [
    "model_xgb = XGBRegressor(**study.best_trial.params)\n",
    "kf = KFold(n_splits=5, shuffle=True , random_state=42)\n",
    "\n",
    "ensemble_predicts= []\n",
    "scores =[]\n",
    "\n",
    "\n",
    "for train_idx, val_idx in tqdm(kf.split(X_standard), total=5, desc=\"Processing folds\"):\n",
    "    X_t, X_val = X_standard[train_idx], X_standard[val_idx]\n",
    "    y_t, y_val = train_y[train_idx], train_y[val_idx]\n",
    "    \n",
    "    # 두 모델 모두 학습\n",
    "    model_xgb.fit(X_t, y_t)\n",
    "    \n",
    "    # 각 모델로부터 Validation set에 대한 예측을 평균내어 앙상블 예측 생성\n",
    "    val_pred = model_xgb.predict(X_val)\n",
    "    \n",
    "    # Validation set에 대한 대회 평가 산식 계산 후 저장\n",
    "    scores.append(rmsle(y_val, val_pred))\n",
    "    \n",
    "    # test 데이터셋에 대한 예측 수행 후 저장\n",
    "    model_xgb_pred = np.exp(model_xgb.predict(test_standard))\n",
    "    model_xgb_pred = np.where(model_xgb_pred < 0, 0, model_xgb_pred)\n",
    "    \n",
    "    ensemble_predicts.append(model_xgb_pred)\n",
    "\n",
    "# K-fold 모든 예측의 평균을 계산하여 fold별 모델들의 앙상블 예측 생성\n",
    "final_predictions = np.mean(ensemble_predicts, axis=0)\n",
    "\n",
    "# 각 fold에서의 Validation Metric Score와 전체 평균 Validation Metric Score출력\n",
    "print(\"Validation : RMSLE scores for each fold:\", scores)\n",
    "print(\"Validation : RMSLE:\", np.mean(scores))\n"
   ]
  },
  {
   "cell_type": "code",
   "execution_count": 15,
   "id": "62eda07c",
   "metadata": {},
   "outputs": [
    {
     "data": {
      "text/plain": [
       "array([3.3672576, 3.2248642, 4.5092278, ..., 4.005776 , 3.98694  ,\n",
       "       4.02114  ], dtype=float32)"
      ]
     },
     "execution_count": 15,
     "metadata": {},
     "output_type": "execute_result"
    }
   ],
   "source": [
    "final_predictions"
   ]
  },
  {
   "cell_type": "code",
   "execution_count": 16,
   "id": "67637832",
   "metadata": {},
   "outputs": [
    {
     "data": {
      "text/html": [
       "<div>\n",
       "<style scoped>\n",
       "    .dataframe tbody tr th:only-of-type {\n",
       "        vertical-align: middle;\n",
       "    }\n",
       "\n",
       "    .dataframe tbody tr th {\n",
       "        vertical-align: top;\n",
       "    }\n",
       "\n",
       "    .dataframe thead th {\n",
       "        text-align: right;\n",
       "    }\n",
       "</style>\n",
       "<table border=\"1\" class=\"dataframe\">\n",
       "  <thead>\n",
       "    <tr style=\"text-align: right;\">\n",
       "      <th></th>\n",
       "      <th>ID</th>\n",
       "      <th>ECLO</th>\n",
       "    </tr>\n",
       "  </thead>\n",
       "  <tbody>\n",
       "    <tr>\n",
       "      <th>0</th>\n",
       "      <td>ACCIDENT_39609</td>\n",
       "      <td>3.367258</td>\n",
       "    </tr>\n",
       "    <tr>\n",
       "      <th>1</th>\n",
       "      <td>ACCIDENT_39610</td>\n",
       "      <td>3.224864</td>\n",
       "    </tr>\n",
       "    <tr>\n",
       "      <th>2</th>\n",
       "      <td>ACCIDENT_39611</td>\n",
       "      <td>4.509228</td>\n",
       "    </tr>\n",
       "    <tr>\n",
       "      <th>3</th>\n",
       "      <td>ACCIDENT_39612</td>\n",
       "      <td>3.952304</td>\n",
       "    </tr>\n",
       "    <tr>\n",
       "      <th>4</th>\n",
       "      <td>ACCIDENT_39613</td>\n",
       "      <td>3.980799</td>\n",
       "    </tr>\n",
       "    <tr>\n",
       "      <th>...</th>\n",
       "      <td>...</td>\n",
       "      <td>...</td>\n",
       "    </tr>\n",
       "    <tr>\n",
       "      <th>10958</th>\n",
       "      <td>ACCIDENT_50567</td>\n",
       "      <td>3.866031</td>\n",
       "    </tr>\n",
       "    <tr>\n",
       "      <th>10959</th>\n",
       "      <td>ACCIDENT_50568</td>\n",
       "      <td>3.967485</td>\n",
       "    </tr>\n",
       "    <tr>\n",
       "      <th>10960</th>\n",
       "      <td>ACCIDENT_50569</td>\n",
       "      <td>4.005776</td>\n",
       "    </tr>\n",
       "    <tr>\n",
       "      <th>10961</th>\n",
       "      <td>ACCIDENT_50570</td>\n",
       "      <td>3.986940</td>\n",
       "    </tr>\n",
       "    <tr>\n",
       "      <th>10962</th>\n",
       "      <td>ACCIDENT_50571</td>\n",
       "      <td>4.021140</td>\n",
       "    </tr>\n",
       "  </tbody>\n",
       "</table>\n",
       "<p>10963 rows × 2 columns</p>\n",
       "</div>"
      ],
      "text/plain": [
       "                   ID      ECLO\n",
       "0      ACCIDENT_39609  3.367258\n",
       "1      ACCIDENT_39610  3.224864\n",
       "2      ACCIDENT_39611  4.509228\n",
       "3      ACCIDENT_39612  3.952304\n",
       "4      ACCIDENT_39613  3.980799\n",
       "...               ...       ...\n",
       "10958  ACCIDENT_50567  3.866031\n",
       "10959  ACCIDENT_50568  3.967485\n",
       "10960  ACCIDENT_50569  4.005776\n",
       "10961  ACCIDENT_50570  3.986940\n",
       "10962  ACCIDENT_50571  4.021140\n",
       "\n",
       "[10963 rows x 2 columns]"
      ]
     },
     "execution_count": 16,
     "metadata": {},
     "output_type": "execute_result"
    }
   ],
   "source": [
    "submission = pd.read_csv('C:/Users/User/Desktop/대구교통사고예측/sample_submission.csv')\n",
    "submission['ECLO'] = final_predictions\n",
    "submission.to_csv('C:/Users/User/Desktop/대구교통사고예측/optuna_xgb2.csv',index=False)\n",
    "submission"
   ]
  },
  {
   "cell_type": "code",
   "execution_count": 17,
   "id": "708d5a8e",
   "metadata": {},
   "outputs": [
    {
     "data": {
      "text/plain": [
       "(2.4403484, 4.7770643, 3.6671457)"
      ]
     },
     "execution_count": 17,
     "metadata": {},
     "output_type": "execute_result"
    }
   ],
   "source": [
    "min(final_predictions),max(final_predictions),np.mean(final_predictions)"
   ]
  },
  {
   "cell_type": "code",
   "execution_count": null,
   "id": "9de34dea",
   "metadata": {},
   "outputs": [],
   "source": []
  },
  {
   "cell_type": "code",
   "execution_count": null,
   "id": "ea0e28a0",
   "metadata": {},
   "outputs": [],
   "source": []
  }
 ],
 "metadata": {
  "kernelspec": {
   "display_name": "Python 3 (ipykernel)",
   "language": "python",
   "name": "python3"
  },
  "language_info": {
   "codemirror_mode": {
    "name": "ipython",
    "version": 3
   },
   "file_extension": ".py",
   "mimetype": "text/x-python",
   "name": "python",
   "nbconvert_exporter": "python",
   "pygments_lexer": "ipython3",
   "version": "3.9.12"
  }
 },
 "nbformat": 4,
 "nbformat_minor": 5
}
